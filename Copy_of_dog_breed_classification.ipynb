{
  "metadata": {
    "kernelspec": {
      "display_name": "Python 3",
      "name": "python3"
    },
    "language_info": {
      "name": "python",
      "version": "3.10.13",
      "mimetype": "text/x-python",
      "codemirror_mode": {
        "name": "ipython",
        "version": 3
      },
      "pygments_lexer": "ipython3",
      "nbconvert_exporter": "python",
      "file_extension": ".py"
    },
    "kaggle": {
      "accelerator": "none",
      "dataSources": [
        {
          "sourceId": 7327,
          "databundleVersionId": 861871,
          "sourceType": "competition"
        },
        {
          "sourceId": 3659,
          "sourceType": "modelInstanceVersion",
          "modelInstanceId": 2604
        }
      ],
      "dockerImageVersionId": 30747,
      "isInternetEnabled": true,
      "language": "python",
      "sourceType": "notebook",
      "isGpuEnabled": false
    },
    "colab": {
      "provenance": [],
      "gpuType": "T4",
      "include_colab_link": true
    },
    "accelerator": "GPU"
  },
  "nbformat_minor": 0,
  "nbformat": 4,
  "cells": [
    {
      "cell_type": "markdown",
      "metadata": {
        "id": "view-in-github",
        "colab_type": "text"
      },
      "source": [
        "<a href=\"https://colab.research.google.com/github/ajaikrishn/Dog-breed-identification/blob/main/Copy_of_dog_breed_classification.ipynb\" target=\"_parent\"><img src=\"https://colab.research.google.com/assets/colab-badge.svg\" alt=\"Open In Colab\"/></a>"
      ]
    },
    {
      "cell_type": "markdown",
      "source": [
        "# **[TRANSFER LEARNING] DOG BREED IDENTIFICATION**"
      ],
      "metadata": {
        "id": "B3lYHRR6T_39"
      }
    },
    {
      "cell_type": "markdown",
      "source": [
        "**DOWNLOADING DATASET FROM KAGGLE**"
      ],
      "metadata": {
        "id": "0mIdHeQIUW3w"
      }
    },
    {
      "source": [
        "\n",
        "# IMPORTANT: RUN THIS CELL IN ORDER TO IMPORT YOUR KAGGLE DATA SOURCES\n",
        "# TO THE CORRECT LOCATION (/kaggle/input) IN YOUR NOTEBOOK,\n",
        "# THEN FEEL FREE TO DELETE THIS CELL.\n",
        "# NOTE: THIS NOTEBOOK ENVIRONMENT DIFFERS FROM KAGGLE'S PYTHON\n",
        "# ENVIRONMENT SO THERE MAY BE MISSING LIBRARIES USED BY YOUR\n",
        "# NOTEBOOK.\n",
        "\n",
        "import os\n",
        "import sys\n",
        "from tempfile import NamedTemporaryFile\n",
        "from urllib.request import urlopen\n",
        "from urllib.parse import unquote, urlparse\n",
        "from urllib.error import HTTPError\n",
        "from zipfile import ZipFile\n",
        "import tarfile\n",
        "import shutil\n",
        "\n",
        "CHUNK_SIZE = 40960\n",
        "DATA_SOURCE_MAPPING = 'dog-breed-identification:https%3A%2F%2Fstorage.googleapis.com%2Fkaggle-competitions-data%2Fkaggle-v2%2F7327%2F861871%2Fbundle%2Farchive.zip%3FX-Goog-Algorithm%3DGOOG4-RSA-SHA256%26X-Goog-Credential%3Dgcp-kaggle-com%2540kaggle-161607.iam.gserviceaccount.com%252F20240718%252Fauto%252Fstorage%252Fgoog4_request%26X-Goog-Date%3D20240718T045132Z%26X-Goog-Expires%3D259200%26X-Goog-SignedHeaders%3Dhost%26X-Goog-Signature%3D88ea549f662eb41e5954bcf81fa063d05e1d041fd6640e5a73cebcaf53548d522b4ac7e8d89adae6e6710fa56fe817e3363cf02702c8544ef1562b3b868dfd299b5c6449e3ce5022dc6ae98f0ad3b849892700a8242663f26596bdbe2fdb139e3ce6a347e29176a7c19d4a0643675241dc16af9db833d91b2e56d7388e64797c6f8d4801662e5ef943ab63fdf22bc8a4cae1117400d43b80488ea0664d50a02f91b6dca2420f588a8870e9684d318e5fc344a4f37887abcad9011967463faec2e4e47a4715b9f74c63f3b6fa9f1c0baac3426cf974bbfeb3c7b9d0ab5bafc8eedb5290f89a409cf28cb5f5582660a828e2b2230b17ec3ee96400436992060cf2,mobilenet-v2/tensorflow2/130-224-classification/1:https%3A%2F%2Fstorage.googleapis.com%2Fkaggle-models-data%2F2604%2F3659%2Fbundle%2Farchive.tar.gz%3FX-Goog-Algorithm%3DGOOG4-RSA-SHA256%26X-Goog-Credential%3Dgcp-kaggle-com%2540kaggle-161607.iam.gserviceaccount.com%252F20240718%252Fauto%252Fstorage%252Fgoog4_request%26X-Goog-Date%3D20240718T045132Z%26X-Goog-Expires%3D259200%26X-Goog-SignedHeaders%3Dhost%26X-Goog-Signature%3D9e179dbbf3adba2becfacba8cff051ad293d931ceca6c21f431b5c70c4db5788bfbd60a189b214fd24b8c379fdd693e7a8649edd744ddd0c99634349385ade476ba28549ef2aaede6be18052d51e0b37cb03282457aa13c5fccc45f13d436064f2c8e7e436381b51d56507ff2d6a83adce75feab7dce03eeb8b0cd729e00395e6032d8c27042763202ab6d63d65a9742a64ac154e1b3f1222e9f0027ff24ba8c791ddc148e427cb8d21c06661211558fd4d16187bd1f939731e8afda224d678920afa3e16138d77395ee5eccf6a18b3ce93ab01145e6e02d85e51a43d1edbc4b7eccdd85f1ea26f376addd44f252486c9646bfa95ae7d988cc964241cb363b60'\n",
        "\n",
        "KAGGLE_INPUT_PATH='/kaggle/input'\n",
        "KAGGLE_WORKING_PATH='/kaggle/working'\n",
        "KAGGLE_SYMLINK='kaggle'\n",
        "\n",
        "!umount /kaggle/input/ 2> /dev/null\n",
        "shutil.rmtree('/kaggle/input', ignore_errors=True)\n",
        "os.makedirs(KAGGLE_INPUT_PATH, 0o777, exist_ok=True)\n",
        "os.makedirs(KAGGLE_WORKING_PATH, 0o777, exist_ok=True)\n",
        "\n",
        "try:\n",
        "  os.symlink(KAGGLE_INPUT_PATH, os.path.join(\"..\", 'input'), target_is_directory=True)\n",
        "except FileExistsError:\n",
        "  pass\n",
        "try:\n",
        "  os.symlink(KAGGLE_WORKING_PATH, os.path.join(\"..\", 'working'), target_is_directory=True)\n",
        "except FileExistsError:\n",
        "  pass\n",
        "\n",
        "for data_source_mapping in DATA_SOURCE_MAPPING.split(','):\n",
        "    directory, download_url_encoded = data_source_mapping.split(':')\n",
        "    download_url = unquote(download_url_encoded)\n",
        "    filename = urlparse(download_url).path\n",
        "    destination_path = os.path.join(KAGGLE_INPUT_PATH, directory)\n",
        "    try:\n",
        "        with urlopen(download_url) as fileres, NamedTemporaryFile() as tfile:\n",
        "            total_length = fileres.headers['content-length']\n",
        "            print(f'Downloading {directory}, {total_length} bytes compressed')\n",
        "            dl = 0\n",
        "            data = fileres.read(CHUNK_SIZE)\n",
        "            while len(data) > 0:\n",
        "                dl += len(data)\n",
        "                tfile.write(data)\n",
        "                done = int(50 * dl / int(total_length))\n",
        "                sys.stdout.write(f\"\\r[{'=' * done}{' ' * (50-done)}] {dl} bytes downloaded\")\n",
        "                sys.stdout.flush()\n",
        "                data = fileres.read(CHUNK_SIZE)\n",
        "            if filename.endswith('.zip'):\n",
        "              with ZipFile(tfile) as zfile:\n",
        "                zfile.extractall(destination_path)\n",
        "            else:\n",
        "              with tarfile.open(tfile.name) as tarfile:\n",
        "                tarfile.extractall(destination_path)\n",
        "            print(f'\\nDownloaded and uncompressed: {directory}')\n",
        "    except HTTPError as e:\n",
        "        print(f'Failed to load (likely expired) {download_url} to path {destination_path}')\n",
        "        continue\n",
        "    except OSError as e:\n",
        "        print(f'Failed to load {download_url} to path {destination_path}')\n",
        "        continue\n",
        "\n",
        "print('Data source import complete.')\n"
      ],
      "metadata": {
        "id": "8stA971qLnUK",
        "outputId": "f44410e9-8cb6-4c1a-c3fd-659e0ac0c7f0",
        "colab": {
          "base_uri": "https://localhost:8080/"
        }
      },
      "cell_type": "code",
      "outputs": [
        {
          "output_type": "stream",
          "name": "stdout",
          "text": [
            "Downloading dog-breed-identification, 724495926 bytes compressed\n",
            "[==================================================] 724495926 bytes downloaded\n",
            "Downloaded and uncompressed: dog-breed-identification\n",
            "Downloading mobilenet-v2/tensorflow2/130-224-classification/1, 20339195 bytes compressed\n",
            "[==================================================] 20339195 bytes downloaded\n",
            "Downloaded and uncompressed: mobilenet-v2/tensorflow2/130-224-classification/1\n",
            "Data source import complete.\n"
          ]
        }
      ],
      "execution_count": null
    },
    {
      "cell_type": "code",
      "source": [
        "# This Python 3 environment comes with many helpful analytics libraries installed\n",
        "# It is defined by the kaggle/python Docker image: https://github.com/kaggle/docker-python\n",
        "# For example, here's several helpful packages to load\n",
        "\n",
        "import numpy as np # linear algebra\n",
        "import pandas as pd # data processing, CSV file I/O (e.g. pd.read_csv)\n",
        "\n",
        "# Input data files are available in the read-only \"../input/\" directory\n",
        "# For example, running this (by clicking run or pressing Shift+Enter) will list all files under the input directory\n",
        "\n",
        "import os\n",
        "for dirname, _, filenames in os.walk('/kaggle/input'):\n",
        "    for filename in filenames:\n",
        "        pass\n",
        "        #print(os.path.join(dirname, filename))\n",
        "\n",
        "# You can write up to 20GB to the current directory (/kaggle/working/) that gets preserved as output when you create a version using \"Save & Run All\"\n",
        "# You can also write temporary files to /kaggle/temp/, but they won't be saved outside of the current session"
      ],
      "metadata": {
        "_uuid": "8f2839f25d086af736a60e9eeb907d3b93b6e0e5",
        "_cell_guid": "b1076dfc-b9ad-4769-8c92-a6c4dae69d19",
        "execution": {
          "iopub.status.busy": "2024-07-16T10:59:32.881671Z",
          "iopub.execute_input": "2024-07-16T10:59:32.882125Z",
          "iopub.status.idle": "2024-07-16T11:00:06.96572Z",
          "shell.execute_reply.started": "2024-07-16T10:59:32.882064Z",
          "shell.execute_reply": "2024-07-16T11:00:06.964768Z"
        },
        "trusted": true,
        "id": "HrMZ41GYLnUR"
      },
      "execution_count": null,
      "outputs": []
    },
    {
      "cell_type": "markdown",
      "source": [
        "**IMPORTING LIBRARIES**"
      ],
      "metadata": {
        "id": "BDlxp3niUhuT"
      }
    },
    {
      "cell_type": "code",
      "source": [
        "\n",
        "\n",
        "# libraries' import\n",
        "import os\n",
        "import pandas as pd\n",
        "import numpy as np\n",
        "import datetime\n",
        "import random\n",
        "\n",
        "import tensorflow as tf\n",
        "import tensorflow_hub as hub\n",
        "import tf_keras as tfk\n",
        "import warnings\n",
        "warnings.filterwarnings('ignore')\n",
        "from IPython.display import Image\n",
        "from sklearn.preprocessing import OneHotEncoder\n",
        "from sklearn.model_selection import train_test_split\n",
        "\n"
      ],
      "metadata": {
        "execution": {
          "iopub.status.busy": "2024-07-16T11:03:39.119758Z",
          "iopub.execute_input": "2024-07-16T11:03:39.12014Z",
          "iopub.status.idle": "2024-07-16T11:03:53.529529Z",
          "shell.execute_reply.started": "2024-07-16T11:03:39.120107Z",
          "shell.execute_reply": "2024-07-16T11:03:53.52853Z"
        },
        "trusted": true,
        "id": "EubsVOgeLnUW"
      },
      "execution_count": null,
      "outputs": []
    },
    {
      "cell_type": "code",
      "source": [
        "# labels dataframe preparation\n",
        "labels=pd.read_csv('/kaggle/input/dog-breed-identification/labels.csv')\n",
        "labels.info()"
      ],
      "metadata": {
        "execution": {
          "iopub.status.busy": "2024-07-16T11:04:00.325433Z",
          "iopub.execute_input": "2024-07-16T11:04:00.326224Z",
          "iopub.status.idle": "2024-07-16T11:04:00.406327Z",
          "shell.execute_reply.started": "2024-07-16T11:04:00.326188Z",
          "shell.execute_reply": "2024-07-16T11:04:00.404912Z"
        },
        "trusted": true,
        "id": "j2-hMsMgLnUX",
        "outputId": "5d83d5c8-71d3-4faf-dd55-fbd4317f466d",
        "colab": {
          "base_uri": "https://localhost:8080/"
        }
      },
      "execution_count": null,
      "outputs": [
        {
          "output_type": "stream",
          "name": "stdout",
          "text": [
            "<class 'pandas.core.frame.DataFrame'>\n",
            "RangeIndex: 10222 entries, 0 to 10221\n",
            "Data columns (total 2 columns):\n",
            " #   Column  Non-Null Count  Dtype \n",
            "---  ------  --------------  ----- \n",
            " 0   id      10222 non-null  object\n",
            " 1   breed   10222 non-null  object\n",
            "dtypes: object(2)\n",
            "memory usage: 159.8+ KB\n"
          ]
        }
      ]
    },
    {
      "cell_type": "code",
      "source": [
        "labels.sample(5)"
      ],
      "metadata": {
        "execution": {
          "iopub.status.busy": "2024-07-16T11:04:04.458736Z",
          "iopub.execute_input": "2024-07-16T11:04:04.459365Z",
          "iopub.status.idle": "2024-07-16T11:04:04.476548Z",
          "shell.execute_reply.started": "2024-07-16T11:04:04.459334Z",
          "shell.execute_reply": "2024-07-16T11:04:04.475399Z"
        },
        "trusted": true,
        "id": "AgQCcnVvLnUZ",
        "outputId": "ee3aad65-eeed-4e2a-c159-55ac9863b8ff",
        "colab": {
          "base_uri": "https://localhost:8080/",
          "height": 206
        }
      },
      "execution_count": null,
      "outputs": [
        {
          "output_type": "execute_result",
          "data": {
            "text/plain": [
              "                                    id                   breed\n",
              "6514  a410a7107470eae5f8d6ebf741e6c5a8            irish_setter\n",
              "4676  7521421e092333c78d6b9dc2e189e659             toy_terrier\n",
              "9811  f6e3a909254785d410b2418647034a5a                     pug\n",
              "624   0f378abee01a23bc9e651753300a9a36  welsh_springer_spaniel\n",
              "6867  ac63a26c445b5e7c92bbd09b1abe1673          border_terrier"
            ],
            "text/html": [
              "\n",
              "  <div id=\"df-b50e45b1-e4d4-4b44-ab7a-172884608e23\" class=\"colab-df-container\">\n",
              "    <div>\n",
              "<style scoped>\n",
              "    .dataframe tbody tr th:only-of-type {\n",
              "        vertical-align: middle;\n",
              "    }\n",
              "\n",
              "    .dataframe tbody tr th {\n",
              "        vertical-align: top;\n",
              "    }\n",
              "\n",
              "    .dataframe thead th {\n",
              "        text-align: right;\n",
              "    }\n",
              "</style>\n",
              "<table border=\"1\" class=\"dataframe\">\n",
              "  <thead>\n",
              "    <tr style=\"text-align: right;\">\n",
              "      <th></th>\n",
              "      <th>id</th>\n",
              "      <th>breed</th>\n",
              "    </tr>\n",
              "  </thead>\n",
              "  <tbody>\n",
              "    <tr>\n",
              "      <th>6514</th>\n",
              "      <td>a410a7107470eae5f8d6ebf741e6c5a8</td>\n",
              "      <td>irish_setter</td>\n",
              "    </tr>\n",
              "    <tr>\n",
              "      <th>4676</th>\n",
              "      <td>7521421e092333c78d6b9dc2e189e659</td>\n",
              "      <td>toy_terrier</td>\n",
              "    </tr>\n",
              "    <tr>\n",
              "      <th>9811</th>\n",
              "      <td>f6e3a909254785d410b2418647034a5a</td>\n",
              "      <td>pug</td>\n",
              "    </tr>\n",
              "    <tr>\n",
              "      <th>624</th>\n",
              "      <td>0f378abee01a23bc9e651753300a9a36</td>\n",
              "      <td>welsh_springer_spaniel</td>\n",
              "    </tr>\n",
              "    <tr>\n",
              "      <th>6867</th>\n",
              "      <td>ac63a26c445b5e7c92bbd09b1abe1673</td>\n",
              "      <td>border_terrier</td>\n",
              "    </tr>\n",
              "  </tbody>\n",
              "</table>\n",
              "</div>\n",
              "    <div class=\"colab-df-buttons\">\n",
              "\n",
              "  <div class=\"colab-df-container\">\n",
              "    <button class=\"colab-df-convert\" onclick=\"convertToInteractive('df-b50e45b1-e4d4-4b44-ab7a-172884608e23')\"\n",
              "            title=\"Convert this dataframe to an interactive table.\"\n",
              "            style=\"display:none;\">\n",
              "\n",
              "  <svg xmlns=\"http://www.w3.org/2000/svg\" height=\"24px\" viewBox=\"0 -960 960 960\">\n",
              "    <path d=\"M120-120v-720h720v720H120Zm60-500h600v-160H180v160Zm220 220h160v-160H400v160Zm0 220h160v-160H400v160ZM180-400h160v-160H180v160Zm440 0h160v-160H620v160ZM180-180h160v-160H180v160Zm440 0h160v-160H620v160Z\"/>\n",
              "  </svg>\n",
              "    </button>\n",
              "\n",
              "  <style>\n",
              "    .colab-df-container {\n",
              "      display:flex;\n",
              "      gap: 12px;\n",
              "    }\n",
              "\n",
              "    .colab-df-convert {\n",
              "      background-color: #E8F0FE;\n",
              "      border: none;\n",
              "      border-radius: 50%;\n",
              "      cursor: pointer;\n",
              "      display: none;\n",
              "      fill: #1967D2;\n",
              "      height: 32px;\n",
              "      padding: 0 0 0 0;\n",
              "      width: 32px;\n",
              "    }\n",
              "\n",
              "    .colab-df-convert:hover {\n",
              "      background-color: #E2EBFA;\n",
              "      box-shadow: 0px 1px 2px rgba(60, 64, 67, 0.3), 0px 1px 3px 1px rgba(60, 64, 67, 0.15);\n",
              "      fill: #174EA6;\n",
              "    }\n",
              "\n",
              "    .colab-df-buttons div {\n",
              "      margin-bottom: 4px;\n",
              "    }\n",
              "\n",
              "    [theme=dark] .colab-df-convert {\n",
              "      background-color: #3B4455;\n",
              "      fill: #D2E3FC;\n",
              "    }\n",
              "\n",
              "    [theme=dark] .colab-df-convert:hover {\n",
              "      background-color: #434B5C;\n",
              "      box-shadow: 0px 1px 3px 1px rgba(0, 0, 0, 0.15);\n",
              "      filter: drop-shadow(0px 1px 2px rgba(0, 0, 0, 0.3));\n",
              "      fill: #FFFFFF;\n",
              "    }\n",
              "  </style>\n",
              "\n",
              "    <script>\n",
              "      const buttonEl =\n",
              "        document.querySelector('#df-b50e45b1-e4d4-4b44-ab7a-172884608e23 button.colab-df-convert');\n",
              "      buttonEl.style.display =\n",
              "        google.colab.kernel.accessAllowed ? 'block' : 'none';\n",
              "\n",
              "      async function convertToInteractive(key) {\n",
              "        const element = document.querySelector('#df-b50e45b1-e4d4-4b44-ab7a-172884608e23');\n",
              "        const dataTable =\n",
              "          await google.colab.kernel.invokeFunction('convertToInteractive',\n",
              "                                                    [key], {});\n",
              "        if (!dataTable) return;\n",
              "\n",
              "        const docLinkHtml = 'Like what you see? Visit the ' +\n",
              "          '<a target=\"_blank\" href=https://colab.research.google.com/notebooks/data_table.ipynb>data table notebook</a>'\n",
              "          + ' to learn more about interactive tables.';\n",
              "        element.innerHTML = '';\n",
              "        dataTable['output_type'] = 'display_data';\n",
              "        await google.colab.output.renderOutput(dataTable, element);\n",
              "        const docLink = document.createElement('div');\n",
              "        docLink.innerHTML = docLinkHtml;\n",
              "        element.appendChild(docLink);\n",
              "      }\n",
              "    </script>\n",
              "  </div>\n",
              "\n",
              "\n",
              "<div id=\"df-a93fc1fb-1549-4483-9d40-5d68ed35281a\">\n",
              "  <button class=\"colab-df-quickchart\" onclick=\"quickchart('df-a93fc1fb-1549-4483-9d40-5d68ed35281a')\"\n",
              "            title=\"Suggest charts\"\n",
              "            style=\"display:none;\">\n",
              "\n",
              "<svg xmlns=\"http://www.w3.org/2000/svg\" height=\"24px\"viewBox=\"0 0 24 24\"\n",
              "     width=\"24px\">\n",
              "    <g>\n",
              "        <path d=\"M19 3H5c-1.1 0-2 .9-2 2v14c0 1.1.9 2 2 2h14c1.1 0 2-.9 2-2V5c0-1.1-.9-2-2-2zM9 17H7v-7h2v7zm4 0h-2V7h2v10zm4 0h-2v-4h2v4z\"/>\n",
              "    </g>\n",
              "</svg>\n",
              "  </button>\n",
              "\n",
              "<style>\n",
              "  .colab-df-quickchart {\n",
              "      --bg-color: #E8F0FE;\n",
              "      --fill-color: #1967D2;\n",
              "      --hover-bg-color: #E2EBFA;\n",
              "      --hover-fill-color: #174EA6;\n",
              "      --disabled-fill-color: #AAA;\n",
              "      --disabled-bg-color: #DDD;\n",
              "  }\n",
              "\n",
              "  [theme=dark] .colab-df-quickchart {\n",
              "      --bg-color: #3B4455;\n",
              "      --fill-color: #D2E3FC;\n",
              "      --hover-bg-color: #434B5C;\n",
              "      --hover-fill-color: #FFFFFF;\n",
              "      --disabled-bg-color: #3B4455;\n",
              "      --disabled-fill-color: #666;\n",
              "  }\n",
              "\n",
              "  .colab-df-quickchart {\n",
              "    background-color: var(--bg-color);\n",
              "    border: none;\n",
              "    border-radius: 50%;\n",
              "    cursor: pointer;\n",
              "    display: none;\n",
              "    fill: var(--fill-color);\n",
              "    height: 32px;\n",
              "    padding: 0;\n",
              "    width: 32px;\n",
              "  }\n",
              "\n",
              "  .colab-df-quickchart:hover {\n",
              "    background-color: var(--hover-bg-color);\n",
              "    box-shadow: 0 1px 2px rgba(60, 64, 67, 0.3), 0 1px 3px 1px rgba(60, 64, 67, 0.15);\n",
              "    fill: var(--button-hover-fill-color);\n",
              "  }\n",
              "\n",
              "  .colab-df-quickchart-complete:disabled,\n",
              "  .colab-df-quickchart-complete:disabled:hover {\n",
              "    background-color: var(--disabled-bg-color);\n",
              "    fill: var(--disabled-fill-color);\n",
              "    box-shadow: none;\n",
              "  }\n",
              "\n",
              "  .colab-df-spinner {\n",
              "    border: 2px solid var(--fill-color);\n",
              "    border-color: transparent;\n",
              "    border-bottom-color: var(--fill-color);\n",
              "    animation:\n",
              "      spin 1s steps(1) infinite;\n",
              "  }\n",
              "\n",
              "  @keyframes spin {\n",
              "    0% {\n",
              "      border-color: transparent;\n",
              "      border-bottom-color: var(--fill-color);\n",
              "      border-left-color: var(--fill-color);\n",
              "    }\n",
              "    20% {\n",
              "      border-color: transparent;\n",
              "      border-left-color: var(--fill-color);\n",
              "      border-top-color: var(--fill-color);\n",
              "    }\n",
              "    30% {\n",
              "      border-color: transparent;\n",
              "      border-left-color: var(--fill-color);\n",
              "      border-top-color: var(--fill-color);\n",
              "      border-right-color: var(--fill-color);\n",
              "    }\n",
              "    40% {\n",
              "      border-color: transparent;\n",
              "      border-right-color: var(--fill-color);\n",
              "      border-top-color: var(--fill-color);\n",
              "    }\n",
              "    60% {\n",
              "      border-color: transparent;\n",
              "      border-right-color: var(--fill-color);\n",
              "    }\n",
              "    80% {\n",
              "      border-color: transparent;\n",
              "      border-right-color: var(--fill-color);\n",
              "      border-bottom-color: var(--fill-color);\n",
              "    }\n",
              "    90% {\n",
              "      border-color: transparent;\n",
              "      border-bottom-color: var(--fill-color);\n",
              "    }\n",
              "  }\n",
              "</style>\n",
              "\n",
              "  <script>\n",
              "    async function quickchart(key) {\n",
              "      const quickchartButtonEl =\n",
              "        document.querySelector('#' + key + ' button');\n",
              "      quickchartButtonEl.disabled = true;  // To prevent multiple clicks.\n",
              "      quickchartButtonEl.classList.add('colab-df-spinner');\n",
              "      try {\n",
              "        const charts = await google.colab.kernel.invokeFunction(\n",
              "            'suggestCharts', [key], {});\n",
              "      } catch (error) {\n",
              "        console.error('Error during call to suggestCharts:', error);\n",
              "      }\n",
              "      quickchartButtonEl.classList.remove('colab-df-spinner');\n",
              "      quickchartButtonEl.classList.add('colab-df-quickchart-complete');\n",
              "    }\n",
              "    (() => {\n",
              "      let quickchartButtonEl =\n",
              "        document.querySelector('#df-a93fc1fb-1549-4483-9d40-5d68ed35281a button');\n",
              "      quickchartButtonEl.style.display =\n",
              "        google.colab.kernel.accessAllowed ? 'block' : 'none';\n",
              "    })();\n",
              "  </script>\n",
              "</div>\n",
              "\n",
              "    </div>\n",
              "  </div>\n"
            ],
            "application/vnd.google.colaboratory.intrinsic+json": {
              "type": "dataframe",
              "summary": "{\n  \"name\": \"labels\",\n  \"rows\": 5,\n  \"fields\": [\n    {\n      \"column\": \"id\",\n      \"properties\": {\n        \"dtype\": \"string\",\n        \"num_unique_values\": 5,\n        \"samples\": [\n          \"7521421e092333c78d6b9dc2e189e659\",\n          \"ac63a26c445b5e7c92bbd09b1abe1673\",\n          \"f6e3a909254785d410b2418647034a5a\"\n        ],\n        \"semantic_type\": \"\",\n        \"description\": \"\"\n      }\n    },\n    {\n      \"column\": \"breed\",\n      \"properties\": {\n        \"dtype\": \"string\",\n        \"num_unique_values\": 5,\n        \"samples\": [\n          \"toy_terrier\",\n          \"border_terrier\",\n          \"pug\"\n        ],\n        \"semantic_type\": \"\",\n        \"description\": \"\"\n      }\n    }\n  ]\n}"
            }
          },
          "metadata": {},
          "execution_count": 9
        }
      ]
    },
    {
      "cell_type": "code",
      "source": [
        "# how many breeds do we have in the dataset?\n",
        "len(labels['breed'].unique())"
      ],
      "metadata": {
        "execution": {
          "iopub.status.busy": "2024-07-16T11:04:08.21657Z",
          "iopub.execute_input": "2024-07-16T11:04:08.217488Z",
          "iopub.status.idle": "2024-07-16T11:04:08.226219Z",
          "shell.execute_reply.started": "2024-07-16T11:04:08.217448Z",
          "shell.execute_reply": "2024-07-16T11:04:08.224959Z"
        },
        "trusted": true,
        "id": "n-nls_dbLnUa",
        "outputId": "ef071cf1-00e8-4061-ae29-cbfa9565aca7",
        "colab": {
          "base_uri": "https://localhost:8080/"
        }
      },
      "execution_count": null,
      "outputs": [
        {
          "output_type": "execute_result",
          "data": {
            "text/plain": [
              "120"
            ]
          },
          "metadata": {},
          "execution_count": 10
        }
      ]
    },
    {
      "cell_type": "code",
      "source": [
        "# which dog breed does have more pictures?\n",
        "breed = labels.groupby(by='breed').agg({'id':'count'})\n",
        "breed.sort_values(by='id', ascending=False).head(10)"
      ],
      "metadata": {
        "execution": {
          "iopub.status.busy": "2024-07-16T11:04:12.248957Z",
          "iopub.execute_input": "2024-07-16T11:04:12.249358Z",
          "iopub.status.idle": "2024-07-16T11:04:12.268208Z",
          "shell.execute_reply.started": "2024-07-16T11:04:12.249328Z",
          "shell.execute_reply": "2024-07-16T11:04:12.267149Z"
        },
        "trusted": true,
        "id": "8bn4-b4HLnUb",
        "outputId": "b194eb2f-38e1-4b1c-c603-1d7104c023d8",
        "colab": {
          "base_uri": "https://localhost:8080/",
          "height": 394
        }
      },
      "execution_count": null,
      "outputs": [
        {
          "output_type": "execute_result",
          "data": {
            "text/plain": [
              "                       id\n",
              "breed                    \n",
              "scottish_deerhound    126\n",
              "maltese_dog           117\n",
              "afghan_hound          116\n",
              "entlebucher           115\n",
              "bernese_mountain_dog  114\n",
              "shih-tzu              112\n",
              "great_pyrenees        111\n",
              "pomeranian            111\n",
              "basenji               110\n",
              "samoyed               109"
            ],
            "text/html": [
              "\n",
              "  <div id=\"df-30679072-e455-4ede-9aee-3bb11157b30d\" class=\"colab-df-container\">\n",
              "    <div>\n",
              "<style scoped>\n",
              "    .dataframe tbody tr th:only-of-type {\n",
              "        vertical-align: middle;\n",
              "    }\n",
              "\n",
              "    .dataframe tbody tr th {\n",
              "        vertical-align: top;\n",
              "    }\n",
              "\n",
              "    .dataframe thead th {\n",
              "        text-align: right;\n",
              "    }\n",
              "</style>\n",
              "<table border=\"1\" class=\"dataframe\">\n",
              "  <thead>\n",
              "    <tr style=\"text-align: right;\">\n",
              "      <th></th>\n",
              "      <th>id</th>\n",
              "    </tr>\n",
              "    <tr>\n",
              "      <th>breed</th>\n",
              "      <th></th>\n",
              "    </tr>\n",
              "  </thead>\n",
              "  <tbody>\n",
              "    <tr>\n",
              "      <th>scottish_deerhound</th>\n",
              "      <td>126</td>\n",
              "    </tr>\n",
              "    <tr>\n",
              "      <th>maltese_dog</th>\n",
              "      <td>117</td>\n",
              "    </tr>\n",
              "    <tr>\n",
              "      <th>afghan_hound</th>\n",
              "      <td>116</td>\n",
              "    </tr>\n",
              "    <tr>\n",
              "      <th>entlebucher</th>\n",
              "      <td>115</td>\n",
              "    </tr>\n",
              "    <tr>\n",
              "      <th>bernese_mountain_dog</th>\n",
              "      <td>114</td>\n",
              "    </tr>\n",
              "    <tr>\n",
              "      <th>shih-tzu</th>\n",
              "      <td>112</td>\n",
              "    </tr>\n",
              "    <tr>\n",
              "      <th>great_pyrenees</th>\n",
              "      <td>111</td>\n",
              "    </tr>\n",
              "    <tr>\n",
              "      <th>pomeranian</th>\n",
              "      <td>111</td>\n",
              "    </tr>\n",
              "    <tr>\n",
              "      <th>basenji</th>\n",
              "      <td>110</td>\n",
              "    </tr>\n",
              "    <tr>\n",
              "      <th>samoyed</th>\n",
              "      <td>109</td>\n",
              "    </tr>\n",
              "  </tbody>\n",
              "</table>\n",
              "</div>\n",
              "    <div class=\"colab-df-buttons\">\n",
              "\n",
              "  <div class=\"colab-df-container\">\n",
              "    <button class=\"colab-df-convert\" onclick=\"convertToInteractive('df-30679072-e455-4ede-9aee-3bb11157b30d')\"\n",
              "            title=\"Convert this dataframe to an interactive table.\"\n",
              "            style=\"display:none;\">\n",
              "\n",
              "  <svg xmlns=\"http://www.w3.org/2000/svg\" height=\"24px\" viewBox=\"0 -960 960 960\">\n",
              "    <path d=\"M120-120v-720h720v720H120Zm60-500h600v-160H180v160Zm220 220h160v-160H400v160Zm0 220h160v-160H400v160ZM180-400h160v-160H180v160Zm440 0h160v-160H620v160ZM180-180h160v-160H180v160Zm440 0h160v-160H620v160Z\"/>\n",
              "  </svg>\n",
              "    </button>\n",
              "\n",
              "  <style>\n",
              "    .colab-df-container {\n",
              "      display:flex;\n",
              "      gap: 12px;\n",
              "    }\n",
              "\n",
              "    .colab-df-convert {\n",
              "      background-color: #E8F0FE;\n",
              "      border: none;\n",
              "      border-radius: 50%;\n",
              "      cursor: pointer;\n",
              "      display: none;\n",
              "      fill: #1967D2;\n",
              "      height: 32px;\n",
              "      padding: 0 0 0 0;\n",
              "      width: 32px;\n",
              "    }\n",
              "\n",
              "    .colab-df-convert:hover {\n",
              "      background-color: #E2EBFA;\n",
              "      box-shadow: 0px 1px 2px rgba(60, 64, 67, 0.3), 0px 1px 3px 1px rgba(60, 64, 67, 0.15);\n",
              "      fill: #174EA6;\n",
              "    }\n",
              "\n",
              "    .colab-df-buttons div {\n",
              "      margin-bottom: 4px;\n",
              "    }\n",
              "\n",
              "    [theme=dark] .colab-df-convert {\n",
              "      background-color: #3B4455;\n",
              "      fill: #D2E3FC;\n",
              "    }\n",
              "\n",
              "    [theme=dark] .colab-df-convert:hover {\n",
              "      background-color: #434B5C;\n",
              "      box-shadow: 0px 1px 3px 1px rgba(0, 0, 0, 0.15);\n",
              "      filter: drop-shadow(0px 1px 2px rgba(0, 0, 0, 0.3));\n",
              "      fill: #FFFFFF;\n",
              "    }\n",
              "  </style>\n",
              "\n",
              "    <script>\n",
              "      const buttonEl =\n",
              "        document.querySelector('#df-30679072-e455-4ede-9aee-3bb11157b30d button.colab-df-convert');\n",
              "      buttonEl.style.display =\n",
              "        google.colab.kernel.accessAllowed ? 'block' : 'none';\n",
              "\n",
              "      async function convertToInteractive(key) {\n",
              "        const element = document.querySelector('#df-30679072-e455-4ede-9aee-3bb11157b30d');\n",
              "        const dataTable =\n",
              "          await google.colab.kernel.invokeFunction('convertToInteractive',\n",
              "                                                    [key], {});\n",
              "        if (!dataTable) return;\n",
              "\n",
              "        const docLinkHtml = 'Like what you see? Visit the ' +\n",
              "          '<a target=\"_blank\" href=https://colab.research.google.com/notebooks/data_table.ipynb>data table notebook</a>'\n",
              "          + ' to learn more about interactive tables.';\n",
              "        element.innerHTML = '';\n",
              "        dataTable['output_type'] = 'display_data';\n",
              "        await google.colab.output.renderOutput(dataTable, element);\n",
              "        const docLink = document.createElement('div');\n",
              "        docLink.innerHTML = docLinkHtml;\n",
              "        element.appendChild(docLink);\n",
              "      }\n",
              "    </script>\n",
              "  </div>\n",
              "\n",
              "\n",
              "<div id=\"df-24d094f1-3b91-49fa-8f00-e57681e9f633\">\n",
              "  <button class=\"colab-df-quickchart\" onclick=\"quickchart('df-24d094f1-3b91-49fa-8f00-e57681e9f633')\"\n",
              "            title=\"Suggest charts\"\n",
              "            style=\"display:none;\">\n",
              "\n",
              "<svg xmlns=\"http://www.w3.org/2000/svg\" height=\"24px\"viewBox=\"0 0 24 24\"\n",
              "     width=\"24px\">\n",
              "    <g>\n",
              "        <path d=\"M19 3H5c-1.1 0-2 .9-2 2v14c0 1.1.9 2 2 2h14c1.1 0 2-.9 2-2V5c0-1.1-.9-2-2-2zM9 17H7v-7h2v7zm4 0h-2V7h2v10zm4 0h-2v-4h2v4z\"/>\n",
              "    </g>\n",
              "</svg>\n",
              "  </button>\n",
              "\n",
              "<style>\n",
              "  .colab-df-quickchart {\n",
              "      --bg-color: #E8F0FE;\n",
              "      --fill-color: #1967D2;\n",
              "      --hover-bg-color: #E2EBFA;\n",
              "      --hover-fill-color: #174EA6;\n",
              "      --disabled-fill-color: #AAA;\n",
              "      --disabled-bg-color: #DDD;\n",
              "  }\n",
              "\n",
              "  [theme=dark] .colab-df-quickchart {\n",
              "      --bg-color: #3B4455;\n",
              "      --fill-color: #D2E3FC;\n",
              "      --hover-bg-color: #434B5C;\n",
              "      --hover-fill-color: #FFFFFF;\n",
              "      --disabled-bg-color: #3B4455;\n",
              "      --disabled-fill-color: #666;\n",
              "  }\n",
              "\n",
              "  .colab-df-quickchart {\n",
              "    background-color: var(--bg-color);\n",
              "    border: none;\n",
              "    border-radius: 50%;\n",
              "    cursor: pointer;\n",
              "    display: none;\n",
              "    fill: var(--fill-color);\n",
              "    height: 32px;\n",
              "    padding: 0;\n",
              "    width: 32px;\n",
              "  }\n",
              "\n",
              "  .colab-df-quickchart:hover {\n",
              "    background-color: var(--hover-bg-color);\n",
              "    box-shadow: 0 1px 2px rgba(60, 64, 67, 0.3), 0 1px 3px 1px rgba(60, 64, 67, 0.15);\n",
              "    fill: var(--button-hover-fill-color);\n",
              "  }\n",
              "\n",
              "  .colab-df-quickchart-complete:disabled,\n",
              "  .colab-df-quickchart-complete:disabled:hover {\n",
              "    background-color: var(--disabled-bg-color);\n",
              "    fill: var(--disabled-fill-color);\n",
              "    box-shadow: none;\n",
              "  }\n",
              "\n",
              "  .colab-df-spinner {\n",
              "    border: 2px solid var(--fill-color);\n",
              "    border-color: transparent;\n",
              "    border-bottom-color: var(--fill-color);\n",
              "    animation:\n",
              "      spin 1s steps(1) infinite;\n",
              "  }\n",
              "\n",
              "  @keyframes spin {\n",
              "    0% {\n",
              "      border-color: transparent;\n",
              "      border-bottom-color: var(--fill-color);\n",
              "      border-left-color: var(--fill-color);\n",
              "    }\n",
              "    20% {\n",
              "      border-color: transparent;\n",
              "      border-left-color: var(--fill-color);\n",
              "      border-top-color: var(--fill-color);\n",
              "    }\n",
              "    30% {\n",
              "      border-color: transparent;\n",
              "      border-left-color: var(--fill-color);\n",
              "      border-top-color: var(--fill-color);\n",
              "      border-right-color: var(--fill-color);\n",
              "    }\n",
              "    40% {\n",
              "      border-color: transparent;\n",
              "      border-right-color: var(--fill-color);\n",
              "      border-top-color: var(--fill-color);\n",
              "    }\n",
              "    60% {\n",
              "      border-color: transparent;\n",
              "      border-right-color: var(--fill-color);\n",
              "    }\n",
              "    80% {\n",
              "      border-color: transparent;\n",
              "      border-right-color: var(--fill-color);\n",
              "      border-bottom-color: var(--fill-color);\n",
              "    }\n",
              "    90% {\n",
              "      border-color: transparent;\n",
              "      border-bottom-color: var(--fill-color);\n",
              "    }\n",
              "  }\n",
              "</style>\n",
              "\n",
              "  <script>\n",
              "    async function quickchart(key) {\n",
              "      const quickchartButtonEl =\n",
              "        document.querySelector('#' + key + ' button');\n",
              "      quickchartButtonEl.disabled = true;  // To prevent multiple clicks.\n",
              "      quickchartButtonEl.classList.add('colab-df-spinner');\n",
              "      try {\n",
              "        const charts = await google.colab.kernel.invokeFunction(\n",
              "            'suggestCharts', [key], {});\n",
              "      } catch (error) {\n",
              "        console.error('Error during call to suggestCharts:', error);\n",
              "      }\n",
              "      quickchartButtonEl.classList.remove('colab-df-spinner');\n",
              "      quickchartButtonEl.classList.add('colab-df-quickchart-complete');\n",
              "    }\n",
              "    (() => {\n",
              "      let quickchartButtonEl =\n",
              "        document.querySelector('#df-24d094f1-3b91-49fa-8f00-e57681e9f633 button');\n",
              "      quickchartButtonEl.style.display =\n",
              "        google.colab.kernel.accessAllowed ? 'block' : 'none';\n",
              "    })();\n",
              "  </script>\n",
              "</div>\n",
              "\n",
              "    </div>\n",
              "  </div>\n"
            ],
            "application/vnd.google.colaboratory.intrinsic+json": {
              "type": "dataframe",
              "summary": "{\n  \"name\": \"breed\",\n  \"rows\": 10,\n  \"fields\": [\n    {\n      \"column\": \"breed\",\n      \"properties\": {\n        \"dtype\": \"string\",\n        \"num_unique_values\": 10,\n        \"samples\": [\n          \"basenji\",\n          \"maltese_dog\",\n          \"shih-tzu\"\n        ],\n        \"semantic_type\": \"\",\n        \"description\": \"\"\n      }\n    },\n    {\n      \"column\": \"id\",\n      \"properties\": {\n        \"dtype\": \"number\",\n        \"std\": 4,\n        \"min\": 109,\n        \"max\": 126,\n        \"num_unique_values\": 9,\n        \"samples\": [\n          110,\n          117,\n          112\n        ],\n        \"semantic_type\": \"\",\n        \"description\": \"\"\n      }\n    }\n  ]\n}"
            }
          },
          "metadata": {},
          "execution_count": 11
        }
      ]
    },
    {
      "cell_type": "code",
      "source": [
        "# one sample of pictures\n",
        "Image('/kaggle/input/dog-breed-identification/train/2796546b6e0e5e25f200df4b79ef0099.jpg')"
      ],
      "metadata": {
        "execution": {
          "iopub.status.busy": "2024-07-16T11:04:20.600942Z",
          "iopub.execute_input": "2024-07-16T11:04:20.601422Z",
          "iopub.status.idle": "2024-07-16T11:04:20.619316Z",
          "shell.execute_reply.started": "2024-07-16T11:04:20.601388Z",
          "shell.execute_reply": "2024-07-16T11:04:20.618404Z"
        },
        "trusted": true,
        "id": "8SX9OvlYLnUc",
        "outputId": "248902f8-31c5-48d7-c2e2-70c443b440fc",
        "colab": {
          "base_uri": "https://localhost:8080/",
          "height": 374
        }
      },
      "execution_count": null,
      "outputs": [
        {
          "output_type": "execute_result",
          "data": {
            "image/jpeg": "[encoded data removed]",
            "text/plain": [
              "<IPython.core.display.Image object>"
            ]
          },
          "metadata": {},
          "execution_count": 12
        }
      ]
    },
    {
      "cell_type": "code",
      "source": [
        "# create a list of filenames\n",
        "filenames = ['/kaggle/input/dog-breed-identification/train/' + fname + '.jpg' for fname in labels['id'] ]\n",
        "len(filenames)"
      ],
      "metadata": {
        "execution": {
          "iopub.status.busy": "2024-07-16T11:04:24.62402Z",
          "iopub.execute_input": "2024-07-16T11:04:24.624416Z",
          "iopub.status.idle": "2024-07-16T11:04:24.63752Z",
          "shell.execute_reply.started": "2024-07-16T11:04:24.624387Z",
          "shell.execute_reply": "2024-07-16T11:04:24.636329Z"
        },
        "trusted": true,
        "id": "MDA2WW6BLnUe",
        "outputId": "dcf8cd43-182a-4a21-9bad-a59147e71e4a",
        "colab": {
          "base_uri": "https://localhost:8080/"
        }
      },
      "execution_count": null,
      "outputs": [
        {
          "output_type": "execute_result",
          "data": {
            "text/plain": [
              "10222"
            ]
          },
          "metadata": {},
          "execution_count": 13
        }
      ]
    },
    {
      "cell_type": "code",
      "source": [
        "Image(filenames[1131])"
      ],
      "metadata": {
        "execution": {
          "iopub.status.busy": "2024-07-16T11:04:30.704662Z",
          "iopub.execute_input": "2024-07-16T11:04:30.705581Z",
          "iopub.status.idle": "2024-07-16T11:04:30.721725Z",
          "shell.execute_reply.started": "2024-07-16T11:04:30.705537Z",
          "shell.execute_reply": "2024-07-16T11:04:30.720492Z"
        },
        "trusted": true,
        "id": "fztsEXXrLnUg",
        "outputId": "261a79ae-5a64-4deb-de0f-6779ee807223",
        "colab": {
          "base_uri": "https://localhost:8080/",
          "height": 356
        }
      },
      "execution_count": null,
      "outputs": [
        {
          "output_type": "execute_result",
          "data": {
            "image/jpeg": "[encoded data removed]",
            "text/plain": [
              "<IPython.core.display.Image object>"
            ]
          },
          "metadata": {},
          "execution_count": 14
        }
      ]
    },
    {
      "cell_type": "code",
      "source": [
        "# check the number of pictures to compare with filenames list\n",
        "if len(os.listdir('/kaggle/input/dog-breed-identification/train')) == len(filenames):\n",
        "    print('Great!, one step more to be sure that we have matched data')\n",
        "else:\n",
        "    print('check train folder')\n"
      ],
      "metadata": {
        "execution": {
          "iopub.status.busy": "2024-07-16T11:04:37.139361Z",
          "iopub.execute_input": "2024-07-16T11:04:37.13978Z",
          "iopub.status.idle": "2024-07-16T11:04:37.151325Z",
          "shell.execute_reply.started": "2024-07-16T11:04:37.139752Z",
          "shell.execute_reply": "2024-07-16T11:04:37.150146Z"
        },
        "trusted": true,
        "id": "Z5s-eAxfLnUh",
        "outputId": "56e641f9-2dc8-49a7-dcb6-6335a73d9848",
        "colab": {
          "base_uri": "https://localhost:8080/"
        }
      },
      "execution_count": null,
      "outputs": [
        {
          "output_type": "stream",
          "name": "stdout",
          "text": [
            "Great!, one step more to be sure that we have matched data\n"
          ]
        }
      ]
    },
    {
      "cell_type": "code",
      "source": [
        "# general X and y preparation\n",
        "X = filenames\n",
        "y = labels['breed']"
      ],
      "metadata": {
        "execution": {
          "iopub.status.busy": "2024-07-16T11:04:43.094365Z",
          "iopub.execute_input": "2024-07-16T11:04:43.094743Z",
          "iopub.status.idle": "2024-07-16T11:04:43.099602Z",
          "shell.execute_reply.started": "2024-07-16T11:04:43.094716Z",
          "shell.execute_reply": "2024-07-16T11:04:43.098452Z"
        },
        "trusted": true,
        "id": "wHg_GEdKLnUh"
      },
      "execution_count": null,
      "outputs": []
    },
    {
      "cell_type": "code",
      "source": [
        "# One Hot Encoding for dogs breeds (y)\n",
        "y = pd.get_dummies(y)\n",
        "encoding_labels = y.columns\n",
        "y=y.to_numpy()"
      ],
      "metadata": {
        "execution": {
          "iopub.status.busy": "2024-07-16T11:04:47.148797Z",
          "iopub.execute_input": "2024-07-16T11:04:47.149519Z",
          "iopub.status.idle": "2024-07-16T11:04:47.157677Z",
          "shell.execute_reply.started": "2024-07-16T11:04:47.149487Z",
          "shell.execute_reply": "2024-07-16T11:04:47.156528Z"
        },
        "trusted": true,
        "id": "P_9qglQALnUi"
      },
      "execution_count": null,
      "outputs": []
    },
    {
      "cell_type": "code",
      "source": [
        "# create a smaller dataset for exmperiments (~1000)\n",
        "number_i = 1000\n",
        "X_train, X_val, y_train, y_val = train_test_split(X[:number_i], y[:number_i], test_size=0.2)\n",
        "\n",
        "len(X_train), len(y_train), len(X_val), len(y_val)"
      ],
      "metadata": {
        "execution": {
          "iopub.status.busy": "2024-07-16T11:04:51.024805Z",
          "iopub.execute_input": "2024-07-16T11:04:51.025835Z",
          "iopub.status.idle": "2024-07-16T11:04:51.03693Z",
          "shell.execute_reply.started": "2024-07-16T11:04:51.025791Z",
          "shell.execute_reply": "2024-07-16T11:04:51.035653Z"
        },
        "trusted": true,
        "id": "GQFM1kZzLnUi",
        "outputId": "827ff6e6-9e6b-449d-fdd5-113b33b13e88",
        "colab": {
          "base_uri": "https://localhost:8080/"
        }
      },
      "execution_count": null,
      "outputs": [
        {
          "output_type": "execute_result",
          "data": {
            "text/plain": [
              "(800, 800, 200, 200)"
            ]
          },
          "metadata": {},
          "execution_count": 18
        }
      ]
    },
    {
      "cell_type": "markdown",
      "source": [
        "## **Preprocessing images (turning images into tensors)**"
      ],
      "metadata": {
        "id": "zvMpOws2V4iB"
      }
    },
    {
      "cell_type": "code",
      "source": [
        "# parameters for image and batch size\n",
        "img_size = 224\n",
        "batch_size = 32"
      ],
      "metadata": {
        "execution": {
          "iopub.status.busy": "2024-07-16T11:04:54.543852Z",
          "iopub.execute_input": "2024-07-16T11:04:54.544268Z",
          "iopub.status.idle": "2024-07-16T11:04:54.549689Z",
          "shell.execute_reply.started": "2024-07-16T11:04:54.544237Z",
          "shell.execute_reply": "2024-07-16T11:04:54.548402Z"
        },
        "trusted": true,
        "id": "FoLm2dosLnUj"
      },
      "execution_count": null,
      "outputs": []
    },
    {
      "cell_type": "code",
      "source": [
        "def prepare_image(image_path):\n",
        "    '''\n",
        "    turns an image into a tensor\n",
        "    '''\n",
        "    # read an image\n",
        "    image = tf.io.read_file(image_path)\n",
        "    # turn an image to numerical version\n",
        "    image = tf.image.decode_jpeg(image, channels=3)\n",
        "    # convert colours from 0-255 to 0-1\n",
        "    image = tf.image.convert_image_dtype(image, tf.float32)\n",
        "    # resize\n",
        "    image = tf.image.resize(image, size=[img_size, img_size])\n",
        "\n",
        "    return image"
      ],
      "metadata": {
        "execution": {
          "iopub.status.busy": "2024-07-16T11:05:07.009283Z",
          "iopub.execute_input": "2024-07-16T11:05:07.010286Z",
          "iopub.status.idle": "2024-07-16T11:05:07.018138Z",
          "shell.execute_reply.started": "2024-07-16T11:05:07.010243Z",
          "shell.execute_reply": "2024-07-16T11:05:07.016849Z"
        },
        "trusted": true,
        "id": "m5lIlT0kLnUj"
      },
      "execution_count": null,
      "outputs": []
    },
    {
      "cell_type": "code",
      "source": [
        "def get_label_image(image_path, label):\n",
        "    image = prepare_image(image_path)\n",
        "\n",
        "    return image, label"
      ],
      "metadata": {
        "execution": {
          "iopub.status.busy": "2024-07-15T06:04:31.097856Z",
          "iopub.execute_input": "2024-07-15T06:04:31.098177Z",
          "iopub.status.idle": "2024-07-15T06:04:31.105251Z",
          "shell.execute_reply.started": "2024-07-15T06:04:31.098148Z",
          "shell.execute_reply": "2024-07-15T06:04:31.104399Z"
        },
        "trusted": true,
        "id": "1DF4bpGmLnUj"
      },
      "execution_count": null,
      "outputs": []
    },
    {
      "cell_type": "code",
      "source": [
        "def create_batches(X, y=None, batch_size=batch_size, valid_data=False, test_data=False):\n",
        "    '''\n",
        "    split a dataset to batches\n",
        "    '''\n",
        "    if test_data:\n",
        "        data = tf.data.Dataset.from_tensor_slices(tf.constant(X))\n",
        "        data_batch = data.map(prepare_image).batch(batch_size)\n",
        "    elif valid_data:\n",
        "        data = tf.data.Dataset.from_tensor_slices((tf.constant(X), tf.constant(y)))\n",
        "        data_batch = data.map(get_label_image).batch(batch_size)\n",
        "    else:\n",
        "        data = tf.data.Dataset.from_tensor_slices((tf.constant(X), tf.constant(y)))\n",
        "        data = data.shuffle(buffer_size=len(X))\n",
        "        data_batch = data.map(get_label_image).batch(batch_size)\n",
        "\n",
        "    return data_batch"
      ],
      "metadata": {
        "execution": {
          "iopub.status.busy": "2024-07-15T06:04:31.106533Z",
          "iopub.execute_input": "2024-07-15T06:04:31.106866Z",
          "iopub.status.idle": "2024-07-15T06:04:31.114481Z",
          "shell.execute_reply.started": "2024-07-15T06:04:31.106837Z",
          "shell.execute_reply": "2024-07-15T06:04:31.113635Z"
        },
        "trusted": true,
        "id": "c5GSD6snLnUk"
      },
      "execution_count": null,
      "outputs": []
    },
    {
      "cell_type": "code",
      "source": [
        "# create batches\n",
        "\n",
        "# train data\n",
        "train_data = create_batches(X_train, y_train)\n",
        "\n",
        "# test data\n",
        "valid_data = create_batches(X_val, y_val, valid_data=True)"
      ],
      "metadata": {
        "execution": {
          "iopub.status.busy": "2024-07-15T06:04:31.11557Z",
          "iopub.execute_input": "2024-07-15T06:04:31.115821Z",
          "iopub.status.idle": "2024-07-15T06:04:31.969962Z",
          "shell.execute_reply.started": "2024-07-15T06:04:31.115799Z",
          "shell.execute_reply": "2024-07-15T06:04:31.968935Z"
        },
        "trusted": true,
        "id": "HXuS5T2SLnUk"
      },
      "execution_count": null,
      "outputs": []
    },
    {
      "cell_type": "code",
      "source": [
        "# model parameters\n",
        "input_shape = [None, img_size, img_size, 3]\n",
        "output_shape = len(encoding_labels)\n",
        "model_url = \"https://kaggle.com/models/google/mobilenet-v2/TensorFlow2/130-224-classification/1\"\n",
        "\n",
        "# number of epochs for training\n",
        "num_epochs = 20"
      ],
      "metadata": {
        "execution": {
          "iopub.status.busy": "2024-07-15T06:04:31.971193Z",
          "iopub.execute_input": "2024-07-15T06:04:31.971499Z",
          "iopub.status.idle": "2024-07-15T06:04:31.975926Z",
          "shell.execute_reply.started": "2024-07-15T06:04:31.971474Z",
          "shell.execute_reply": "2024-07-15T06:04:31.975014Z"
        },
        "trusted": true,
        "id": "ufx_WQYyLnUl"
      },
      "execution_count": null,
      "outputs": []
    },
    {
      "cell_type": "code",
      "source": [
        "# load a tensorboard for callbacks\n",
        "%load_ext tensorboard"
      ],
      "metadata": {
        "execution": {
          "iopub.status.busy": "2024-07-15T06:04:31.977187Z",
          "iopub.execute_input": "2024-07-15T06:04:31.977512Z",
          "iopub.status.idle": "2024-07-15T06:04:31.99718Z",
          "shell.execute_reply.started": "2024-07-15T06:04:31.977483Z",
          "shell.execute_reply": "2024-07-15T06:04:31.996538Z"
        },
        "trusted": true,
        "id": "qBqu4-a9LnUl"
      },
      "execution_count": null,
      "outputs": []
    },
    {
      "cell_type": "code",
      "source": [
        "# callbacks preparation\n",
        "def create_tf_callback():\n",
        "    logdir = os.path.join('/kaggle/working/',\n",
        "                         datetime.datetime.now().strftime('%Y%m%d-%H%M%S'))\n",
        "\n",
        "    return tf.keras.callbacks.TensorBoard(logdir)\n",
        "\n",
        "# early stopping for callbacks\n",
        "early_stopping = tf.keras.callbacks.EarlyStopping(monitor='val_accuracy',\n",
        "                                            patience=3)\n",
        "\n"
      ],
      "metadata": {
        "execution": {
          "iopub.status.busy": "2024-07-15T06:04:31.998106Z",
          "iopub.execute_input": "2024-07-15T06:04:31.998397Z",
          "iopub.status.idle": "2024-07-15T06:04:32.003624Z",
          "shell.execute_reply.started": "2024-07-15T06:04:31.998375Z",
          "shell.execute_reply": "2024-07-15T06:04:32.002678Z"
        },
        "trusted": true,
        "id": "czLLnG3nLnUl"
      },
      "execution_count": null,
      "outputs": []
    },
    {
      "cell_type": "code",
      "source": [
        "# a function for model creation\n",
        "def create_model(input_shape=input_shape, output_shape=output_shape, model_url=model_url):\n",
        "    print('create a model with: ', model_url)\n",
        "\n",
        "    # setup the model\n",
        "    model = tfk.Sequential([\n",
        "        hub.KerasLayer(model_url),\n",
        "                       tfk.layers.Dense(units=output_shape, activation='softmax')\n",
        "                       ])\n",
        "\n",
        "    # compile the model\n",
        "    model.compile(\n",
        "        loss=tfk.losses.CategoricalCrossentropy(),\n",
        "        optimizer=tfk.optimizers.Adam(),\n",
        "        metrics=['accuracy']\n",
        "    )\n",
        "\n",
        "    # build the model\n",
        "    model.build(input_shape)\n",
        "\n",
        "    return model"
      ],
      "metadata": {
        "execution": {
          "iopub.status.busy": "2024-07-15T06:06:38.648226Z",
          "iopub.execute_input": "2024-07-15T06:06:38.648605Z",
          "iopub.status.idle": "2024-07-15T06:06:38.654724Z",
          "shell.execute_reply.started": "2024-07-15T06:06:38.648575Z",
          "shell.execute_reply": "2024-07-15T06:06:38.653838Z"
        },
        "trusted": true,
        "id": "RUK1WRhwLnUm"
      },
      "execution_count": null,
      "outputs": []
    },
    {
      "cell_type": "code",
      "source": [
        "# build a function for train model\n",
        "def train_model():\n",
        "    # model creation\n",
        "    model = create_model()\n",
        "\n",
        "    # create a new tensorboard\n",
        "    tensorboard = create_tf_callback()\n",
        "\n",
        "    # model training\n",
        "    model.fit(x=train_data,\n",
        "          epochs=num_epochs,\n",
        "          validation_data=valid_data,\n",
        "          validation_freq=1,\n",
        "          callbacks=[tensorboard, early_stopping]\n",
        "         )\n",
        "\n",
        "    return model\n"
      ],
      "metadata": {
        "execution": {
          "iopub.status.busy": "2024-07-15T06:06:46.666893Z",
          "iopub.execute_input": "2024-07-15T06:06:46.667245Z",
          "iopub.status.idle": "2024-07-15T06:06:46.673223Z",
          "shell.execute_reply.started": "2024-07-15T06:06:46.667215Z",
          "shell.execute_reply": "2024-07-15T06:06:46.672322Z"
        },
        "trusted": true,
        "id": "eGbgCG5uLnUm"
      },
      "execution_count": null,
      "outputs": []
    },
    {
      "cell_type": "markdown",
      "source": [
        "**Model preparation**"
      ],
      "metadata": {
        "id": "yCoPMh7kXApv"
      }
    },
    {
      "cell_type": "code",
      "source": [
        "model = train_model()\n",
        "print('\\nModel Summary:')\n",
        "model.summary()"
      ],
      "metadata": {
        "execution": {
          "iopub.status.busy": "2024-07-15T06:06:51.323409Z",
          "iopub.execute_input": "2024-07-15T06:06:51.323746Z",
          "iopub.status.idle": "2024-07-15T06:07:00.08186Z",
          "shell.execute_reply.started": "2024-07-15T06:06:51.323721Z",
          "shell.execute_reply": "2024-07-15T06:07:00.080543Z"
        },
        "trusted": true,
        "id": "EJVC9B0jLnUn",
        "outputId": "0830b08d-dcd7-4446-e6b3-7af02c640a97",
        "colab": {
          "base_uri": "https://localhost:8080/"
        }
      },
      "execution_count": null,
      "outputs": [
        {
          "output_type": "stream",
          "name": "stdout",
          "text": [
            "create a model with:  https://kaggle.com/models/google/mobilenet-v2/TensorFlow2/130-224-classification/1\n"
          ]
        },
        {
          "output_type": "stream",
          "name": "stderr",
          "text": [
            "WARNING:tensorflow:Model failed to serialize as JSON. Ignoring... \n",
            "Layer ModuleWrapper was created by passing\n",
            "non-serializable argument values in `__init__()`,\n",
            "and therefore the layer must override `get_config()` in\n",
            "order to be serializable. Please implement `get_config()`.\n",
            "\n",
            "Example:\n",
            "\n",
            "class CustomLayer(keras.layers.Layer):\n",
            "    def __init__(self, arg1, arg2, **kwargs):\n",
            "        super().__init__(**kwargs)\n",
            "        self.arg1 = arg1\n",
            "        self.arg2 = arg2\n",
            "\n",
            "    def get_config(self):\n",
            "        config = super().get_config()\n",
            "        config.update({\n",
            "            \"arg1\": self.arg1,\n",
            "            \"arg2\": self.arg2,\n",
            "        })\n",
            "        return config\n"
          ]
        },
        {
          "output_type": "stream",
          "name": "stdout",
          "text": [
            "Epoch 1/20\n",
            "25/25 [==============================] - 30s 188ms/step - loss: 4.5644 - accuracy: 0.0988 - val_loss: 3.3929 - val_accuracy: 0.2400\n",
            "Epoch 2/20\n",
            "25/25 [==============================] - 2s 74ms/step - loss: 1.6227 - accuracy: 0.6800 - val_loss: 2.1444 - val_accuracy: 0.4650\n",
            "Epoch 3/20\n",
            "25/25 [==============================] - 3s 102ms/step - loss: 0.5542 - accuracy: 0.9362 - val_loss: 1.6825 - val_accuracy: 0.5950\n",
            "Epoch 4/20\n",
            "25/25 [==============================] - 2s 75ms/step - loss: 0.2500 - accuracy: 0.9875 - val_loss: 1.4760 - val_accuracy: 0.6350\n",
            "Epoch 5/20\n",
            "25/25 [==============================] - 2s 63ms/step - loss: 0.1451 - accuracy: 0.9987 - val_loss: 1.4017 - val_accuracy: 0.6400\n",
            "Epoch 6/20\n",
            "25/25 [==============================] - 2s 62ms/step - loss: 0.1000 - accuracy: 0.9987 - val_loss: 1.3653 - val_accuracy: 0.6550\n",
            "Epoch 7/20\n",
            "25/25 [==============================] - 2s 77ms/step - loss: 0.0750 - accuracy: 1.0000 - val_loss: 1.3353 - val_accuracy: 0.6450\n",
            "Epoch 8/20\n",
            "25/25 [==============================] - 2s 91ms/step - loss: 0.0587 - accuracy: 1.0000 - val_loss: 1.3192 - val_accuracy: 0.6550\n",
            "Epoch 9/20\n",
            "25/25 [==============================] - 3s 101ms/step - loss: 0.0483 - accuracy: 1.0000 - val_loss: 1.2974 - val_accuracy: 0.6600\n",
            "Epoch 10/20\n",
            "25/25 [==============================] - 2s 62ms/step - loss: 0.0406 - accuracy: 1.0000 - val_loss: 1.2827 - val_accuracy: 0.6650\n",
            "Epoch 11/20\n",
            "25/25 [==============================] - 2s 74ms/step - loss: 0.0348 - accuracy: 1.0000 - val_loss: 1.2716 - val_accuracy: 0.6600\n",
            "Epoch 12/20\n",
            "25/25 [==============================] - 2s 76ms/step - loss: 0.0304 - accuracy: 1.0000 - val_loss: 1.2606 - val_accuracy: 0.6600\n",
            "Epoch 13/20\n",
            "25/25 [==============================] - 2s 77ms/step - loss: 0.0268 - accuracy: 1.0000 - val_loss: 1.2528 - val_accuracy: 0.6700\n",
            "Epoch 14/20\n",
            "25/25 [==============================] - 3s 100ms/step - loss: 0.0239 - accuracy: 1.0000 - val_loss: 1.2442 - val_accuracy: 0.6700\n",
            "Epoch 15/20\n",
            "25/25 [==============================] - 3s 105ms/step - loss: 0.0214 - accuracy: 1.0000 - val_loss: 1.2413 - val_accuracy: 0.6650\n",
            "Epoch 16/20\n",
            "25/25 [==============================] - 2s 90ms/step - loss: 0.0194 - accuracy: 1.0000 - val_loss: 1.2351 - val_accuracy: 0.6700\n",
            "\n",
            "Model Summary:\n",
            "Model: \"sequential\"\n",
            "_________________________________________________________________\n",
            " Layer (type)                Output Shape              Param #   \n",
            "=================================================================\n",
            " module_wrapper (ModuleWrap  (None, 1001)              5432713   \n",
            " per)                                                            \n",
            "                                                                 \n",
            " dense (Dense)               (None, 120)               120240    \n",
            "                                                                 \n",
            "=================================================================\n",
            "Total params: 5552953 (21.18 MB)\n",
            "Trainable params: 120240 (469.69 KB)\n",
            "Non-trainable params: 5432713 (20.72 MB)\n",
            "_________________________________________________________________\n"
          ]
        }
      ]
    },
    {
      "cell_type": "code",
      "source": [
        " #%tensorboard --logdir /kaggle/working"
      ],
      "metadata": {
        "id": "_wbO2K2hNhI3"
      },
      "execution_count": null,
      "outputs": []
    },
    {
      "cell_type": "code",
      "source": [
        "y_pred = model.predict(valid_data)"
      ],
      "metadata": {
        "id": "KbrKeRm-PQue",
        "outputId": "1203631f-283b-4d45-dfa9-70640915c781",
        "colab": {
          "base_uri": "https://localhost:8080/"
        }
      },
      "execution_count": null,
      "outputs": [
        {
          "output_type": "stream",
          "name": "stdout",
          "text": [
            "7/7 [==============================] - 1s 48ms/step\n"
          ]
        }
      ]
    },
    {
      "cell_type": "code",
      "source": [
        "# function for encoding labels\n",
        "def pred_labels(prediction_propabilities):\n",
        "\n",
        "    return encoding_labels[np.argmax(prediction_propabilities)]"
      ],
      "metadata": {
        "id": "EZiD8BD7PXe8"
      },
      "execution_count": null,
      "outputs": []
    },
    {
      "cell_type": "code",
      "source": [
        "# check a random sample from validation dataset\n",
        "index = random.randint(0, len(y_val))\n",
        "label = pred_labels(y_pred[index])\n",
        "\n",
        "print(f'Is {label} predicted properly? Prediction: {pred_labels(y_val[index])}. So:  {label==pred_labels(y_val[index])}\\n')\n",
        "\n",
        "Image(X_val[index])"
      ],
      "metadata": {
        "id": "BCKS5m-nPcRP",
        "outputId": "aaec1a8a-c433-4535-fdbf-7dafbc00fab4",
        "colab": {
          "base_uri": "https://localhost:8080/",
          "height": 385
        }
      },
      "execution_count": null,
      "outputs": [
        {
          "output_type": "stream",
          "name": "stdout",
          "text": [
            "Is scottish_deerhound predicted properly? Prediction: pomeranian. So:  False\n",
            "\n"
          ]
        },
        {
          "output_type": "execute_result",
          "data": {
            "image/jpeg": "[encoded data removed]",
            "text/plain": [
              "<IPython.core.display.Image object>"
            ]
          },
          "metadata": {},
          "execution_count": 33
        }
      ]
    },
    {
      "cell_type": "code",
      "source": [
        "# split dataset\n",
        "X_train, X_val, y_train, y_val = train_test_split(X, y, test_size=0.2)\n",
        "\n",
        "# create batches\n",
        "# train data\n",
        "train_data = create_batches(X_train, y_train)\n",
        "\n",
        "# test data\n",
        "valid_data = create_batches(X_val, y_val, valid_data=True)\n",
        "\n",
        "print(len(X_train), len(X_val), len(y_train), len(y_val))"
      ],
      "metadata": {
        "id": "JOkRLwnoPia2",
        "outputId": "bb651903-89a3-4978-8f1b-ff65b5a722e7",
        "colab": {
          "base_uri": "https://localhost:8080/"
        }
      },
      "execution_count": null,
      "outputs": [
        {
          "output_type": "stream",
          "name": "stdout",
          "text": [
            "8177 2045 8177 2045\n"
          ]
        }
      ]
    },
    {
      "cell_type": "code",
      "source": [
        "model2 = train_model()\n",
        "\n",
        "print('\\nModel Summary:')\n",
        "model.summary()"
      ],
      "metadata": {
        "id": "yIC5ASzfPpa4",
        "outputId": "3a76527a-73ee-4203-cd27-69937fb65c36",
        "colab": {
          "base_uri": "https://localhost:8080/"
        }
      },
      "execution_count": null,
      "outputs": [
        {
          "output_type": "stream",
          "name": "stdout",
          "text": [
            "create a model with:  https://kaggle.com/models/google/mobilenet-v2/TensorFlow2/130-224-classification/1\n"
          ]
        },
        {
          "output_type": "stream",
          "name": "stderr",
          "text": [
            "WARNING:tensorflow:Model failed to serialize as JSON. Ignoring... \n",
            "Layer ModuleWrapper was created by passing\n",
            "non-serializable argument values in `__init__()`,\n",
            "and therefore the layer must override `get_config()` in\n",
            "order to be serializable. Please implement `get_config()`.\n",
            "\n",
            "Example:\n",
            "\n",
            "class CustomLayer(keras.layers.Layer):\n",
            "    def __init__(self, arg1, arg2, **kwargs):\n",
            "        super().__init__(**kwargs)\n",
            "        self.arg1 = arg1\n",
            "        self.arg2 = arg2\n",
            "\n",
            "    def get_config(self):\n",
            "        config = super().get_config()\n",
            "        config.update({\n",
            "            \"arg1\": self.arg1,\n",
            "            \"arg2\": self.arg2,\n",
            "        })\n",
            "        return config\n"
          ]
        },
        {
          "output_type": "stream",
          "name": "stdout",
          "text": [
            "Epoch 1/20\n",
            "256/256 [==============================] - 26s 82ms/step - loss: 1.4797 - accuracy: 0.6450 - val_loss: 0.7034 - val_accuracy: 0.7932\n",
            "Epoch 2/20\n",
            "256/256 [==============================] - 19s 75ms/step - loss: 0.4065 - accuracy: 0.8875 - val_loss: 0.6553 - val_accuracy: 0.7966\n",
            "Epoch 3/20\n",
            "256/256 [==============================] - 19s 74ms/step - loss: 0.2316 - accuracy: 0.9411 - val_loss: 0.6627 - val_accuracy: 0.7941\n",
            "Epoch 4/20\n",
            "256/256 [==============================] - 20s 77ms/step - loss: 0.1460 - accuracy: 0.9695 - val_loss: 0.6446 - val_accuracy: 0.8073\n",
            "Epoch 5/20\n",
            "256/256 [==============================] - 19s 75ms/step - loss: 0.0984 - accuracy: 0.9845 - val_loss: 0.6711 - val_accuracy: 0.7985\n",
            "Epoch 6/20\n",
            "256/256 [==============================] - 19s 75ms/step - loss: 0.0715 - accuracy: 0.9901 - val_loss: 0.6715 - val_accuracy: 0.8049\n",
            "Epoch 7/20\n",
            "256/256 [==============================] - 17s 66ms/step - loss: 0.0525 - accuracy: 0.9950 - val_loss: 0.6832 - val_accuracy: 0.8029\n",
            "\n",
            "Model Summary:\n",
            "Model: \"sequential\"\n",
            "_________________________________________________________________\n",
            " Layer (type)                Output Shape              Param #   \n",
            "=================================================================\n",
            " module_wrapper (ModuleWrap  (None, 1001)              5432713   \n",
            " per)                                                            \n",
            "                                                                 \n",
            " dense (Dense)               (None, 120)               120240    \n",
            "                                                                 \n",
            "=================================================================\n",
            "Total params: 5552953 (21.18 MB)\n",
            "Trainable params: 120240 (469.69 KB)\n",
            "Non-trainable params: 5432713 (20.72 MB)\n",
            "_________________________________________________________________\n"
          ]
        }
      ]
    },
    {
      "cell_type": "code",
      "source": [
        "y_pred = model2.predict(valid_data)"
      ],
      "metadata": {
        "id": "bs35zIuNQQ5n",
        "outputId": "98c9139f-14eb-498b-c4b3-e12b1fe2bfef",
        "colab": {
          "base_uri": "https://localhost:8080/"
        }
      },
      "execution_count": null,
      "outputs": [
        {
          "output_type": "stream",
          "name": "stdout",
          "text": [
            "64/64 [==============================] - 4s 53ms/step\n"
          ]
        }
      ]
    },
    {
      "cell_type": "code",
      "source": [
        "# check a random sample from validation dataset\n",
        "index = random.randint(0, len(y_val))\n",
        "label = pred_labels(y_pred[index])\n",
        "\n",
        "print(f'Is {label} predicted properly? Prediction: {pred_labels(y_val[index])}. So:  {label==pred_labels(y_val[index])}\\n')\n",
        "\n",
        "Image(X_val[index])"
      ],
      "metadata": {
        "id": "y8KODuwgQo1Z",
        "outputId": "eeb133e2-05fc-433a-ca8b-17b23c4e65f2",
        "colab": {
          "base_uri": "https://localhost:8080/",
          "height": 196
        }
      },
      "execution_count": null,
      "outputs": [
        {
          "output_type": "stream",
          "name": "stdout",
          "text": [
            "Is blenheim_spaniel predicted properly? Prediction: blenheim_spaniel. So:  True\n",
            "\n"
          ]
        },
        {
          "output_type": "execute_result",
          "data": {
            "image/jpeg": "[encoded data removed]",
            "text/plain": [
              "<IPython.core.display.Image object>"
            ]
          },
          "metadata": {},
          "execution_count": 37
        }
      ]
    }
  ]
}